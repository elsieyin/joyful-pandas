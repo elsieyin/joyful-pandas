{
 "cells": [
  {
   "cell_type": "code",
   "execution_count": 1,
   "metadata": {
    "ExecuteTime": {
     "end_time": "2020-07-01T10:04:34.768677Z",
     "start_time": "2020-07-01T10:04:34.530473Z"
    }
   },
   "outputs": [],
   "source": [
    "import pandas as pd"
   ]
  },
  {
   "cell_type": "code",
   "execution_count": 2,
   "metadata": {
    "ExecuteTime": {
     "end_time": "2020-07-01T10:04:34.800706Z",
     "start_time": "2020-07-01T10:04:34.769678Z"
    }
   },
   "outputs": [
    {
     "data": {
      "text/html": [
       "<div>\n",
       "<style scoped>\n",
       "    .dataframe tbody tr th:only-of-type {\n",
       "        vertical-align: middle;\n",
       "    }\n",
       "\n",
       "    .dataframe tbody tr th {\n",
       "        vertical-align: top;\n",
       "    }\n",
       "\n",
       "    .dataframe thead th {\n",
       "        text-align: right;\n",
       "    }\n",
       "</style>\n",
       "<table border=\"1\" class=\"dataframe\">\n",
       "  <thead>\n",
       "    <tr style=\"text-align: right;\">\n",
       "      <th></th>\n",
       "      <th>标题</th>\n",
       "      <th>价格</th>\n",
       "      <th>付款人数</th>\n",
       "      <th>店铺</th>\n",
       "      <th>发货地址</th>\n",
       "    </tr>\n",
       "  </thead>\n",
       "  <tbody>\n",
       "    <tr>\n",
       "      <th>0</th>\n",
       "      <td>五芳斋粽子礼盒 心悦+18只装咸鸭蛋组合端午节礼品团购嘉兴肉粽子</td>\n",
       "      <td>129</td>\n",
       "      <td>6人付款</td>\n",
       "      <td>五芳斋官方旗舰店</td>\n",
       "      <td>浙江 嘉兴</td>\n",
       "    </tr>\n",
       "    <tr>\n",
       "      <th>1</th>\n",
       "      <td>北京稻香村端午粽子手工豆沙粽220g*2袋散装豆沙粽香甜软糯豆沙粽</td>\n",
       "      <td>44</td>\n",
       "      <td>8人付款</td>\n",
       "      <td>天猫超市</td>\n",
       "      <td>上海</td>\n",
       "    </tr>\n",
       "    <tr>\n",
       "      <th>2</th>\n",
       "      <td>五芳斋粽子礼盒装鲜肉咸蛋黄大肉粽嘉兴豆沙甜粽端午团购散装礼品</td>\n",
       "      <td>89.9</td>\n",
       "      <td>100万+人付款</td>\n",
       "      <td>五芳斋官方旗舰店</td>\n",
       "      <td>浙江 嘉兴</td>\n",
       "    </tr>\n",
       "    <tr>\n",
       "      <th>3</th>\n",
       "      <td>稻香私房鲜肉粽蛋黄肉粽嘉兴粽子咸鸭蛋礼盒装端午节送礼特产团购</td>\n",
       "      <td>138</td>\n",
       "      <td>1936人付款</td>\n",
       "      <td>稻香村食品旗舰店</td>\n",
       "      <td>北京</td>\n",
       "    </tr>\n",
       "    <tr>\n",
       "      <th>4</th>\n",
       "      <td>嘉兴粽子 蛋黄鲜肉粽新鲜大肉粽早餐散装团购浙江特产蜜枣多口味</td>\n",
       "      <td>3.8</td>\n",
       "      <td>9500+人付款</td>\n",
       "      <td>城城喂食猫</td>\n",
       "      <td>浙江 嘉兴</td>\n",
       "    </tr>\n",
       "    <tr>\n",
       "      <th>...</th>\n",
       "      <td>...</td>\n",
       "      <td>...</td>\n",
       "      <td>...</td>\n",
       "      <td>...</td>\n",
       "      <td>...</td>\n",
       "    </tr>\n",
       "    <tr>\n",
       "      <th>4398</th>\n",
       "      <td>红船100克*2只五谷杂粮粽 浙江特产嘉兴粽子 团购粽子嘉兴端午节</td>\n",
       "      <td>7.9</td>\n",
       "      <td>347人付款</td>\n",
       "      <td>红船旗舰店</td>\n",
       "      <td>浙江 嘉兴</td>\n",
       "    </tr>\n",
       "    <tr>\n",
       "      <th>4399</th>\n",
       "      <td>隐栗古法烧肉粽/咸蛋黄/豆沙板栗端午粽子三种口味6只家庭礼盒装</td>\n",
       "      <td>93</td>\n",
       "      <td>80人付款</td>\n",
       "      <td>峨眉山隐栗粑粑罗栗</td>\n",
       "      <td>四川 乐山</td>\n",
       "    </tr>\n",
       "    <tr>\n",
       "      <th>4400</th>\n",
       "      <td>五芳斋 佛系粽子全素口味礼盒装桂花八宝粽豆沙甜粽端午礼品团购</td>\n",
       "      <td>98.2</td>\n",
       "      <td>5人付款</td>\n",
       "      <td>北京美程嘉译</td>\n",
       "      <td>北京</td>\n",
       "    </tr>\n",
       "    <tr>\n",
       "      <th>4401</th>\n",
       "      <td>【粉丝专享】端午节特产新鲜蛋黄鲜肉粽豆沙嘉兴粽子800g/箱</td>\n",
       "      <td>65.9</td>\n",
       "      <td>149人付款</td>\n",
       "      <td>chaoge1931</td>\n",
       "      <td>安徽 合肥</td>\n",
       "    </tr>\n",
       "    <tr>\n",
       "      <th>4402</th>\n",
       "      <td>粽子端午节送礼盒包装1200g双蛋黄广东东莞大个道滘裹蒸棕鲜肉粽</td>\n",
       "      <td>99</td>\n",
       "      <td>20人付款</td>\n",
       "      <td>hezhiqi</td>\n",
       "      <td>广东 东莞</td>\n",
       "    </tr>\n",
       "  </tbody>\n",
       "</table>\n",
       "<p>4403 rows × 5 columns</p>\n",
       "</div>"
      ],
      "text/plain": [
       "                                     标题    价格      付款人数          店铺  发货地址 \n",
       "0      五芳斋粽子礼盒 心悦+18只装咸鸭蛋组合端午节礼品团购嘉兴肉粽子   129      6人付款    五芳斋官方旗舰店  浙江 嘉兴\n",
       "1     北京稻香村端午粽子手工豆沙粽220g*2袋散装豆沙粽香甜软糯豆沙粽    44      8人付款        天猫超市     上海\n",
       "2        五芳斋粽子礼盒装鲜肉咸蛋黄大肉粽嘉兴豆沙甜粽端午团购散装礼品  89.9  100万+人付款    五芳斋官方旗舰店  浙江 嘉兴\n",
       "3        稻香私房鲜肉粽蛋黄肉粽嘉兴粽子咸鸭蛋礼盒装端午节送礼特产团购   138   1936人付款    稻香村食品旗舰店     北京\n",
       "4        嘉兴粽子 蛋黄鲜肉粽新鲜大肉粽早餐散装团购浙江特产蜜枣多口味   3.8  9500+人付款       城城喂食猫  浙江 嘉兴\n",
       "...                                 ...   ...       ...         ...    ...\n",
       "4398  红船100克*2只五谷杂粮粽 浙江特产嘉兴粽子 团购粽子嘉兴端午节   7.9    347人付款       红船旗舰店  浙江 嘉兴\n",
       "4399    隐栗古法烧肉粽/咸蛋黄/豆沙板栗端午粽子三种口味6只家庭礼盒装    93     80人付款   峨眉山隐栗粑粑罗栗  四川 乐山\n",
       "4400     五芳斋 佛系粽子全素口味礼盒装桂花八宝粽豆沙甜粽端午礼品团购  98.2      5人付款      北京美程嘉译     北京\n",
       "4401     【粉丝专享】端午节特产新鲜蛋黄鲜肉粽豆沙嘉兴粽子800g/箱  65.9    149人付款  chaoge1931  安徽 合肥\n",
       "4402   粽子端午节送礼盒包装1200g双蛋黄广东东莞大个道滘裹蒸棕鲜肉粽    99     20人付款     hezhiqi  广东 东莞\n",
       "\n",
       "[4403 rows x 5 columns]"
      ]
     },
     "execution_count": 2,
     "metadata": {},
     "output_type": "execute_result"
    }
   ],
   "source": [
    "df = pd.read_csv('./data/端午粽子数据.csv')\n",
    "#.astype('str')\n",
    "df"
   ]
  },
  {
   "cell_type": "code",
   "execution_count": 3,
   "metadata": {
    "ExecuteTime": {
     "end_time": "2020-07-01T10:04:34.816720Z",
     "start_time": "2020-07-01T10:04:34.801707Z"
    }
   },
   "outputs": [
    {
     "name": "stdout",
     "output_type": "stream",
     "text": [
      "<class 'pandas.core.frame.DataFrame'>\n",
      "RangeIndex: 4403 entries, 0 to 4402\n",
      "Data columns (total 5 columns):\n",
      " #   Column  Non-Null Count  Dtype \n",
      "---  ------  --------------  ----- \n",
      " 0   标题      4403 non-null   object\n",
      " 1    价格     4403 non-null   object\n",
      " 2   付款人数    4332 non-null   object\n",
      " 3   店铺      4403 non-null   object\n",
      " 4   发货地址    4400 non-null   object\n",
      "dtypes: object(5)\n",
      "memory usage: 172.1+ KB\n"
     ]
    }
   ],
   "source": [
    "df.info()"
   ]
  },
  {
   "cell_type": "markdown",
   "metadata": {},
   "source": [
    "####  请删除最后一列为缺失值的行，并求所有在杭州发货的商品单价均值"
   ]
  },
  {
   "cell_type": "code",
   "execution_count": 4,
   "metadata": {
    "ExecuteTime": {
     "end_time": "2020-07-01T10:04:34.832734Z",
     "start_time": "2020-07-01T10:04:34.816720Z"
    }
   },
   "outputs": [],
   "source": [
    "df=pd.read_csv('./data/端午粽子数据.csv', dtype='str')"
   ]
  },
  {
   "cell_type": "code",
   "execution_count": 5,
   "metadata": {
    "ExecuteTime": {
     "end_time": "2020-07-01T10:04:34.848748Z",
     "start_time": "2020-07-01T10:04:34.833736Z"
    }
   },
   "outputs": [],
   "source": [
    "df.columns = df.columns.str.strip()"
   ]
  },
  {
   "cell_type": "code",
   "execution_count": 6,
   "metadata": {
    "ExecuteTime": {
     "end_time": "2020-07-01T10:04:34.864763Z",
     "start_time": "2020-07-01T10:04:34.849750Z"
    }
   },
   "outputs": [
    {
     "data": {
      "text/plain": [
       "Index(['标题', '价格', '付款人数', '店铺', '发货地址'], dtype='object')"
      ]
     },
     "execution_count": 6,
     "metadata": {},
     "output_type": "execute_result"
    }
   ],
   "source": [
    "df.columns"
   ]
  },
  {
   "cell_type": "code",
   "execution_count": 7,
   "metadata": {
    "ExecuteTime": {
     "end_time": "2020-07-01T10:04:34.880777Z",
     "start_time": "2020-07-01T10:04:34.865764Z"
    }
   },
   "outputs": [
    {
     "data": {
      "text/plain": [
       "0       浙江 嘉兴\n",
       "1          上海\n",
       "2       浙江 嘉兴\n",
       "3          北京\n",
       "4       浙江 嘉兴\n",
       "        ...  \n",
       "4398    浙江 嘉兴\n",
       "4399    四川 乐山\n",
       "4400       北京\n",
       "4401    安徽 合肥\n",
       "4402    广东 东莞\n",
       "Name: 发货地址, Length: 4403, dtype: string"
      ]
     },
     "execution_count": 7,
     "metadata": {},
     "output_type": "execute_result"
    }
   ],
   "source": [
    "df['发货地址'] = df['发货地址'].astype('string')\n",
    "df['发货地址']"
   ]
  },
  {
   "cell_type": "code",
   "execution_count": 8,
   "metadata": {
    "ExecuteTime": {
     "end_time": "2020-07-01T10:04:34.896791Z",
     "start_time": "2020-07-01T10:04:34.881778Z"
    }
   },
   "outputs": [
    {
     "data": {
      "text/plain": [
       "标题       0\n",
       "价格       0\n",
       "付款人数    71\n",
       "店铺       0\n",
       "发货地址     3\n",
       "dtype: int64"
      ]
     },
     "execution_count": 8,
     "metadata": {},
     "output_type": "execute_result"
    }
   ],
   "source": [
    "df.isna().sum()"
   ]
  },
  {
   "cell_type": "code",
   "execution_count": 9,
   "metadata": {
    "ExecuteTime": {
     "end_time": "2020-07-01T10:04:34.912806Z",
     "start_time": "2020-07-01T10:04:34.897792Z"
    }
   },
   "outputs": [
    {
     "name": "stdout",
     "output_type": "stream",
     "text": [
      "<class 'pandas.core.frame.DataFrame'>\n",
      "RangeIndex: 4403 entries, 0 to 4402\n",
      "Data columns (total 5 columns):\n",
      " #   Column  Non-Null Count  Dtype \n",
      "---  ------  --------------  ----- \n",
      " 0   标题      4403 non-null   object\n",
      " 1   价格      4403 non-null   object\n",
      " 2   付款人数    4332 non-null   object\n",
      " 3   店铺      4403 non-null   object\n",
      " 4   发货地址    4400 non-null   string\n",
      "dtypes: object(4), string(1)\n",
      "memory usage: 172.1+ KB\n"
     ]
    }
   ],
   "source": [
    "df.info()"
   ]
  },
  {
   "cell_type": "code",
   "execution_count": 10,
   "metadata": {
    "ExecuteTime": {
     "end_time": "2020-07-01T10:04:34.928820Z",
     "start_time": "2020-07-01T10:04:34.913807Z"
    }
   },
   "outputs": [
    {
     "data": {
      "text/html": [
       "<div>\n",
       "<style scoped>\n",
       "    .dataframe tbody tr th:only-of-type {\n",
       "        vertical-align: middle;\n",
       "    }\n",
       "\n",
       "    .dataframe tbody tr th {\n",
       "        vertical-align: top;\n",
       "    }\n",
       "\n",
       "    .dataframe thead th {\n",
       "        text-align: right;\n",
       "    }\n",
       "</style>\n",
       "<table border=\"1\" class=\"dataframe\">\n",
       "  <thead>\n",
       "    <tr style=\"text-align: right;\">\n",
       "      <th></th>\n",
       "      <th>标题</th>\n",
       "      <th>价格</th>\n",
       "      <th>付款人数</th>\n",
       "      <th>店铺</th>\n",
       "      <th>发货地址</th>\n",
       "    </tr>\n",
       "  </thead>\n",
       "  <tbody>\n",
       "    <tr>\n",
       "      <th>1847</th>\n",
       "      <td>贞丰胖四娘灰粽传统肉粽真空板栗鲜肉粽方便速食端午贵州粽子5只</td>\n",
       "      <td>46.8</td>\n",
       "      <td>41人付款</td>\n",
       "      <td>贵州原产地商品官方旗舰店</td>\n",
       "      <td>&lt;NA&gt;</td>\n",
       "    </tr>\n",
       "    <tr>\n",
       "      <th>2418</th>\n",
       "      <td>素缤纷粽子140g*6入袋装净素素食纯素蔬食素粽早餐点心端午送礼</td>\n",
       "      <td>49.4</td>\n",
       "      <td>40人付款</td>\n",
       "      <td>素缤纷精致素食自助式餐厅</td>\n",
       "      <td>&lt;NA&gt;</td>\n",
       "    </tr>\n",
       "    <tr>\n",
       "      <th>2716</th>\n",
       "      <td>辰颐物语热销嘉兴私房粽子10只礼盒装6味大粽荤素搭配送礼可团购</td>\n",
       "      <td>39.9</td>\n",
       "      <td>110人付款</td>\n",
       "      <td>水果达人多吃水果有益健康</td>\n",
       "      <td>&lt;NA&gt;</td>\n",
       "    </tr>\n",
       "  </tbody>\n",
       "</table>\n",
       "</div>"
      ],
      "text/plain": [
       "                                    标题    价格    付款人数            店铺  发货地址\n",
       "1847    贞丰胖四娘灰粽传统肉粽真空板栗鲜肉粽方便速食端午贵州粽子5只  46.8   41人付款  贵州原产地商品官方旗舰店  <NA>\n",
       "2418  素缤纷粽子140g*6入袋装净素素食纯素蔬食素粽早餐点心端午送礼  49.4   40人付款  素缤纷精致素食自助式餐厅  <NA>\n",
       "2716   辰颐物语热销嘉兴私房粽子10只礼盒装6味大粽荤素搭配送礼可团购  39.9  110人付款  水果达人多吃水果有益健康  <NA>"
      ]
     },
     "execution_count": 10,
     "metadata": {},
     "output_type": "execute_result"
    }
   ],
   "source": [
    "df[df['发货地址'].isna()]"
   ]
  },
  {
   "cell_type": "code",
   "execution_count": 11,
   "metadata": {
    "ExecuteTime": {
     "end_time": "2020-07-01T10:04:34.944834Z",
     "start_time": "2020-07-01T10:04:34.929821Z"
    }
   },
   "outputs": [],
   "source": [
    "df.dropna(axis=0,subset=['发货地址'], inplace=True)"
   ]
  },
  {
   "cell_type": "code",
   "execution_count": 12,
   "metadata": {
    "ExecuteTime": {
     "end_time": "2020-07-01T10:04:34.960849Z",
     "start_time": "2020-07-01T10:04:34.945835Z"
    }
   },
   "outputs": [],
   "source": [
    "df1 = df[df['发货地址'].str.contains('杭州')]"
   ]
  },
  {
   "cell_type": "code",
   "execution_count": 13,
   "metadata": {
    "ExecuteTime": {
     "end_time": "2020-07-01T10:04:34.976863Z",
     "start_time": "2020-07-01T10:04:34.961850Z"
    }
   },
   "outputs": [],
   "source": [
    "#df1['价格'].mean()"
   ]
  },
  {
   "cell_type": "code",
   "execution_count": 14,
   "metadata": {
    "ExecuteTime": {
     "end_time": "2020-07-01T10:04:34.992877Z",
     "start_time": "2020-07-01T10:04:34.977864Z"
    }
   },
   "outputs": [
    {
     "data": {
      "text/html": [
       "<div>\n",
       "<style scoped>\n",
       "    .dataframe tbody tr th:only-of-type {\n",
       "        vertical-align: middle;\n",
       "    }\n",
       "\n",
       "    .dataframe tbody tr th {\n",
       "        vertical-align: top;\n",
       "    }\n",
       "\n",
       "    .dataframe thead th {\n",
       "        text-align: right;\n",
       "    }\n",
       "</style>\n",
       "<table border=\"1\" class=\"dataframe\">\n",
       "  <thead>\n",
       "    <tr style=\"text-align: right;\">\n",
       "      <th></th>\n",
       "      <th>标题</th>\n",
       "      <th>价格</th>\n",
       "      <th>付款人数</th>\n",
       "      <th>店铺</th>\n",
       "      <th>发货地址</th>\n",
       "    </tr>\n",
       "  </thead>\n",
       "  <tbody>\n",
       "    <tr>\n",
       "      <th>4376</th>\n",
       "      <td>东方贺礼端午节礼盒嘉兴粽子高汤蛋黄鲜大肉粽特产现已支持定制</td>\n",
       "      <td>45_</td>\n",
       "      <td>17人付款</td>\n",
       "      <td>缘来有礼</td>\n",
       "      <td>浙江 杭州</td>\n",
       "    </tr>\n",
       "  </tbody>\n",
       "</table>\n",
       "</div>"
      ],
      "text/plain": [
       "                                 标题   价格   付款人数    店铺   发货地址\n",
       "4376  东方贺礼端午节礼盒嘉兴粽子高汤蛋黄鲜大肉粽特产现已支持定制  45_  17人付款  缘来有礼  浙江 杭州"
      ]
     },
     "execution_count": 14,
     "metadata": {},
     "output_type": "execute_result"
    }
   ],
   "source": [
    "def is_number(x):\n",
    "    try:\n",
    "        float(x)\n",
    "        return True\n",
    "    except (SyntaxError, ValueError) as e:\n",
    "        return False\n",
    "\n",
    "df1[~df1['价格'].map(is_number)]"
   ]
  },
  {
   "cell_type": "code",
   "execution_count": 15,
   "metadata": {
    "ExecuteTime": {
     "end_time": "2020-07-01T10:04:35.008891Z",
     "start_time": "2020-07-01T10:04:34.993878Z"
    }
   },
   "outputs": [
    {
     "data": {
      "text/plain": [
       "4146      9\n",
       "4376    45_\n",
       "Name: 价格, dtype: object"
      ]
     },
     "execution_count": 15,
     "metadata": {},
     "output_type": "execute_result"
    }
   ],
   "source": [
    "df1['价格'][~(df1['价格'].str.replace(r'\\d+\\.?\\d+','True')=='True')]"
   ]
  },
  {
   "cell_type": "code",
   "execution_count": 16,
   "metadata": {
    "ExecuteTime": {
     "end_time": "2020-07-01T10:04:35.024906Z",
     "start_time": "2020-07-01T10:04:35.009892Z"
    }
   },
   "outputs": [],
   "source": [
    "df.loc[[4376],'价格'] = 45"
   ]
  },
  {
   "cell_type": "code",
   "execution_count": 17,
   "metadata": {
    "ExecuteTime": {
     "end_time": "2020-07-01T10:04:35.040920Z",
     "start_time": "2020-07-01T10:04:35.025907Z"
    }
   },
   "outputs": [
    {
     "name": "stderr",
     "output_type": "stream",
     "text": [
      "F:\\Anaconda\\envs\\joyfulpd\\lib\\site-packages\\pandas\\core\\indexing.py:966: SettingWithCopyWarning: \n",
      "A value is trying to be set on a copy of a slice from a DataFrame.\n",
      "Try using .loc[row_indexer,col_indexer] = value instead\n",
      "\n",
      "See the caveats in the documentation: https://pandas.pydata.org/pandas-docs/stable/user_guide/indexing.html#returning-a-view-versus-a-copy\n",
      "  self.obj[item] = s\n"
     ]
    }
   ],
   "source": [
    "df1.loc[[4376],'价格'] = 45"
   ]
  },
  {
   "cell_type": "code",
   "execution_count": 18,
   "metadata": {
    "ExecuteTime": {
     "end_time": "2020-07-01T10:04:35.056934Z",
     "start_time": "2020-07-01T10:04:35.041921Z"
    }
   },
   "outputs": [
    {
     "data": {
      "text/plain": [
       "80.90088888888889"
      ]
     },
     "execution_count": 18,
     "metadata": {},
     "output_type": "execute_result"
    }
   ],
   "source": [
    "df1['价格'].astype('float').mean()"
   ]
  },
  {
   "cell_type": "markdown",
   "metadata": {},
   "source": [
    "#### 商品标题带有“嘉兴”但发货地却不在嘉兴的商品有多少条记录？"
   ]
  },
  {
   "cell_type": "code",
   "execution_count": 19,
   "metadata": {
    "ExecuteTime": {
     "end_time": "2020-07-01T10:04:35.072949Z",
     "start_time": "2020-07-01T10:04:35.056934Z"
    }
   },
   "outputs": [],
   "source": [
    "df2 = df[df['标题'].str.contains('嘉兴')]"
   ]
  },
  {
   "cell_type": "code",
   "execution_count": 20,
   "metadata": {
    "ExecuteTime": {
     "end_time": "2020-07-01T10:04:35.088963Z",
     "start_time": "2020-07-01T10:04:35.073950Z"
    }
   },
   "outputs": [
    {
     "data": {
      "text/plain": [
       "1032"
      ]
     },
     "execution_count": 20,
     "metadata": {},
     "output_type": "execute_result"
    }
   ],
   "source": [
    "len(df2['发货地址'][~df2['发货地址'].str.contains('嘉兴')])"
   ]
  },
  {
   "cell_type": "markdown",
   "metadata": {},
   "source": [
    "#### 请按照分位数将价格分为“高、较高、中、较低、低”5 个类别，\n",
    "##### 再将类别结果插入到标题一列之后，\n",
    "##### 最后对类别列进行降序排序。"
   ]
  },
  {
   "cell_type": "code",
   "execution_count": 21,
   "metadata": {
    "ExecuteTime": {
     "end_time": "2020-07-01T10:04:35.104977Z",
     "start_time": "2020-07-01T10:04:35.089964Z"
    }
   },
   "outputs": [],
   "source": [
    "# df['价格'].astype('float') 报错"
   ]
  },
  {
   "cell_type": "code",
   "execution_count": 22,
   "metadata": {
    "ExecuteTime": {
     "end_time": "2020-07-01T10:04:35.120992Z",
     "start_time": "2020-07-01T10:04:35.107980Z"
    }
   },
   "outputs": [
    {
     "data": {
      "text/html": [
       "<div>\n",
       "<style scoped>\n",
       "    .dataframe tbody tr th:only-of-type {\n",
       "        vertical-align: middle;\n",
       "    }\n",
       "\n",
       "    .dataframe tbody tr th {\n",
       "        vertical-align: top;\n",
       "    }\n",
       "\n",
       "    .dataframe thead th {\n",
       "        text-align: right;\n",
       "    }\n",
       "</style>\n",
       "<table border=\"1\" class=\"dataframe\">\n",
       "  <thead>\n",
       "    <tr style=\"text-align: right;\">\n",
       "      <th></th>\n",
       "      <th>标题</th>\n",
       "      <th>价格</th>\n",
       "      <th>付款人数</th>\n",
       "      <th>店铺</th>\n",
       "      <th>发货地址</th>\n",
       "    </tr>\n",
       "  </thead>\n",
       "  <tbody>\n",
       "    <tr>\n",
       "      <th>538</th>\n",
       "      <td>五芳斋粽子蛋黄鲜肉粽豆沙粽栗子肉棕子新鲜散装批发团购嘉兴肉粽</td>\n",
       "      <td>45.9.</td>\n",
       "      <td>1.0万+人付款</td>\n",
       "      <td>五芳斋官方旗舰店</td>\n",
       "      <td>浙江 嘉兴</td>\n",
       "    </tr>\n",
       "  </tbody>\n",
       "</table>\n",
       "</div>"
      ],
      "text/plain": [
       "                                 标题     价格      付款人数        店铺   发货地址\n",
       "538  五芳斋粽子蛋黄鲜肉粽豆沙粽栗子肉棕子新鲜散装批发团购嘉兴肉粽  45.9.  1.0万+人付款  五芳斋官方旗舰店  浙江 嘉兴"
      ]
     },
     "execution_count": 22,
     "metadata": {},
     "output_type": "execute_result"
    }
   ],
   "source": [
    "df[df['价格']=='45.9.']"
   ]
  },
  {
   "cell_type": "code",
   "execution_count": 23,
   "metadata": {
    "ExecuteTime": {
     "end_time": "2020-07-01T10:04:35.137006Z",
     "start_time": "2020-07-01T10:04:35.121993Z"
    }
   },
   "outputs": [],
   "source": [
    "df.loc[[538],'价格'] = [45.9]"
   ]
  },
  {
   "cell_type": "code",
   "execution_count": 24,
   "metadata": {
    "ExecuteTime": {
     "end_time": "2020-07-01T10:04:35.153020Z",
     "start_time": "2020-07-01T10:04:35.138008Z"
    }
   },
   "outputs": [
    {
     "data": {
      "text/plain": [
       "2798    1780.0\n",
       "2509    1088.0\n",
       "153      858.0\n",
       "794      857.9\n",
       "2729     678.0\n",
       "         ...  \n",
       "1547       3.2\n",
       "1441       2.9\n",
       "3516       2.9\n",
       "1760       2.8\n",
       "1548       2.8\n",
       "Name: 价格, Length: 4400, dtype: float64"
      ]
     },
     "execution_count": 24,
     "metadata": {},
     "output_type": "execute_result"
    }
   ],
   "source": [
    "s = df['价格'].astype('float').sort_values(ascending=False)\n",
    "s"
   ]
  },
  {
   "cell_type": "code",
   "execution_count": 25,
   "metadata": {
    "ExecuteTime": {
     "end_time": "2020-07-01T10:04:35.169035Z",
     "start_time": "2020-07-01T10:04:35.154021Z"
    }
   },
   "outputs": [],
   "source": [
    "df['价格'] = df['价格'].astype('float')"
   ]
  },
  {
   "cell_type": "code",
   "execution_count": 26,
   "metadata": {
    "ExecuteTime": {
     "end_time": "2020-07-01T10:04:35.185049Z",
     "start_time": "2020-07-01T10:04:35.170035Z"
    }
   },
   "outputs": [
    {
     "data": {
      "text/plain": [
       "0.0       2.8\n",
       "0.2      22.8\n",
       "0.4      39.8\n",
       "0.6      60.0\n",
       "0.8     106.2\n",
       "1.0    1780.0\n",
       "Name: 价格, dtype: float64"
      ]
     },
     "execution_count": 26,
     "metadata": {},
     "output_type": "execute_result"
    }
   ],
   "source": [
    "t = s.quantile([0, .2, .4, .6, .8, 1])\n",
    "t"
   ]
  },
  {
   "cell_type": "code",
   "execution_count": 27,
   "metadata": {
    "ExecuteTime": {
     "end_time": "2020-07-01T10:04:35.201063Z",
     "start_time": "2020-07-01T10:04:35.186050Z"
    }
   },
   "outputs": [
    {
     "data": {
      "text/plain": [
       "array([   2.8,   22.8,   39.8,   60. ,  106.2, 1780. ])"
      ]
     },
     "execution_count": 27,
     "metadata": {},
     "output_type": "execute_result"
    }
   ],
   "source": [
    "t.values"
   ]
  },
  {
   "cell_type": "code",
   "execution_count": 28,
   "metadata": {
    "ExecuteTime": {
     "end_time": "2020-07-01T10:04:35.217077Z",
     "start_time": "2020-07-01T10:04:35.202064Z"
    }
   },
   "outputs": [
    {
     "data": {
      "text/html": [
       "<div>\n",
       "<style scoped>\n",
       "    .dataframe tbody tr th:only-of-type {\n",
       "        vertical-align: middle;\n",
       "    }\n",
       "\n",
       "    .dataframe tbody tr th {\n",
       "        vertical-align: top;\n",
       "    }\n",
       "\n",
       "    .dataframe thead th {\n",
       "        text-align: right;\n",
       "    }\n",
       "</style>\n",
       "<table border=\"1\" class=\"dataframe\">\n",
       "  <thead>\n",
       "    <tr style=\"text-align: right;\">\n",
       "      <th></th>\n",
       "      <th>标题</th>\n",
       "      <th>价格</th>\n",
       "      <th>付款人数</th>\n",
       "      <th>店铺</th>\n",
       "      <th>发货地址</th>\n",
       "    </tr>\n",
       "  </thead>\n",
       "  <tbody>\n",
       "    <tr>\n",
       "      <th>2798</th>\n",
       "      <td>御茶膳房端午节礼品黄酒有机粽子咸鸭蛋手提竹篮礼盒装高端大礼包</td>\n",
       "      <td>1780.0</td>\n",
       "      <td>12人付款</td>\n",
       "      <td>御茶膳房旗舰店</td>\n",
       "      <td>北京</td>\n",
       "    </tr>\n",
       "    <tr>\n",
       "      <th>2509</th>\n",
       "      <td>御茶膳房端午节礼品有机粽子咸鸭蛋手提竹篮礼盒装高端大礼包</td>\n",
       "      <td>1088.0</td>\n",
       "      <td>9人付款</td>\n",
       "      <td>御茶膳房旗舰店</td>\n",
       "      <td>北京</td>\n",
       "    </tr>\n",
       "    <tr>\n",
       "      <th>153</th>\n",
       "      <td>端午节礼品礼盒装组合高档有机粽子咸鸭蛋送领导高端送礼大礼包</td>\n",
       "      <td>858.0</td>\n",
       "      <td>45人付款</td>\n",
       "      <td>御茶膳房旗舰店</td>\n",
       "      <td>北京</td>\n",
       "    </tr>\n",
       "    <tr>\n",
       "      <th>794</th>\n",
       "      <td>嘉兴粽子新鲜大肉粽蛋黄肉粽甜粽竹篮粽子礼盒装组合端午送礼团购</td>\n",
       "      <td>857.9</td>\n",
       "      <td>2491人付款</td>\n",
       "      <td>千味食代i</td>\n",
       "      <td>浙江 嘉兴</td>\n",
       "    </tr>\n",
       "    <tr>\n",
       "      <th>2729</th>\n",
       "      <td>米旗端午节粽子礼盒壹品私房多口味肉粽素棕海鲜粽高档礼盒送礼</td>\n",
       "      <td>678.0</td>\n",
       "      <td>5人付款</td>\n",
       "      <td>壹品优店</td>\n",
       "      <td>北京</td>\n",
       "    </tr>\n",
       "    <tr>\n",
       "      <th>...</th>\n",
       "      <td>...</td>\n",
       "      <td>...</td>\n",
       "      <td>...</td>\n",
       "      <td>...</td>\n",
       "      <td>...</td>\n",
       "    </tr>\n",
       "    <tr>\n",
       "      <th>1654</th>\n",
       "      <td>三珍斋鲜肉粽100g*2只嘉兴特产粽子速食早餐（新老包装随机发货）</td>\n",
       "      <td>3.2</td>\n",
       "      <td>NaN</td>\n",
       "      <td>天猫会员店</td>\n",
       "      <td>上海</td>\n",
       "    </tr>\n",
       "    <tr>\n",
       "      <th>3516</th>\n",
       "      <td>老鼎丰东北哈尔滨特产粽子鲜肉粽甜粽蜜枣端午节手工传统新鲜蛋黄</td>\n",
       "      <td>2.9</td>\n",
       "      <td>913人付款</td>\n",
       "      <td>老鼎丰旗舰店</td>\n",
       "      <td>黑龙江 哈尔滨</td>\n",
       "    </tr>\n",
       "    <tr>\n",
       "      <th>1441</th>\n",
       "      <td>久知味蛋黄鲜肉粽135g 真空粽嘉兴特产粽子速食早餐</td>\n",
       "      <td>2.9</td>\n",
       "      <td>NaN</td>\n",
       "      <td>天猫会员店</td>\n",
       "      <td>上海</td>\n",
       "    </tr>\n",
       "    <tr>\n",
       "      <th>1760</th>\n",
       "      <td>久知味润香细沙粽135g 真空粽嘉兴特产粽子速食早餐</td>\n",
       "      <td>2.8</td>\n",
       "      <td>NaN</td>\n",
       "      <td>天猫会员店</td>\n",
       "      <td>上海</td>\n",
       "    </tr>\n",
       "    <tr>\n",
       "      <th>1548</th>\n",
       "      <td>久知味醇香鲜肉粽135g 真空粽嘉兴特产粽子速食早餐</td>\n",
       "      <td>2.8</td>\n",
       "      <td>NaN</td>\n",
       "      <td>天猫会员店</td>\n",
       "      <td>上海</td>\n",
       "    </tr>\n",
       "  </tbody>\n",
       "</table>\n",
       "<p>4400 rows × 5 columns</p>\n",
       "</div>"
      ],
      "text/plain": [
       "                                     标题      价格     付款人数       店铺     发货地址\n",
       "2798     御茶膳房端午节礼品黄酒有机粽子咸鸭蛋手提竹篮礼盒装高端大礼包  1780.0    12人付款  御茶膳房旗舰店       北京\n",
       "2509       御茶膳房端午节礼品有机粽子咸鸭蛋手提竹篮礼盒装高端大礼包  1088.0     9人付款  御茶膳房旗舰店       北京\n",
       "153       端午节礼品礼盒装组合高档有机粽子咸鸭蛋送领导高端送礼大礼包   858.0    45人付款  御茶膳房旗舰店       北京\n",
       "794      嘉兴粽子新鲜大肉粽蛋黄肉粽甜粽竹篮粽子礼盒装组合端午送礼团购   857.9  2491人付款    千味食代i    浙江 嘉兴\n",
       "2729      米旗端午节粽子礼盒壹品私房多口味肉粽素棕海鲜粽高档礼盒送礼   678.0     5人付款     壹品优店       北京\n",
       "...                                 ...     ...      ...      ...      ...\n",
       "1654  三珍斋鲜肉粽100g*2只嘉兴特产粽子速食早餐（新老包装随机发货）     3.2      NaN    天猫会员店       上海\n",
       "3516     老鼎丰东北哈尔滨特产粽子鲜肉粽甜粽蜜枣端午节手工传统新鲜蛋黄     2.9   913人付款   老鼎丰旗舰店  黑龙江 哈尔滨\n",
       "1441         久知味蛋黄鲜肉粽135g 真空粽嘉兴特产粽子速食早餐     2.9      NaN    天猫会员店       上海\n",
       "1760         久知味润香细沙粽135g 真空粽嘉兴特产粽子速食早餐     2.8      NaN    天猫会员店       上海\n",
       "1548         久知味醇香鲜肉粽135g 真空粽嘉兴特产粽子速食早餐     2.8      NaN    天猫会员店       上海\n",
       "\n",
       "[4400 rows x 5 columns]"
      ]
     },
     "execution_count": 28,
     "metadata": {},
     "output_type": "execute_result"
    }
   ],
   "source": [
    "df = df.sort_values(by=['价格'],ascending=False)\n",
    "df"
   ]
  },
  {
   "cell_type": "code",
   "execution_count": 29,
   "metadata": {
    "ExecuteTime": {
     "end_time": "2020-07-01T10:04:35.233091Z",
     "start_time": "2020-07-01T10:04:35.218078Z"
    }
   },
   "outputs": [],
   "source": [
    "df['类别'] = pd.cut(df['价格'], t.values,labels=['低','较低','中','较高','高'])"
   ]
  },
  {
   "cell_type": "code",
   "execution_count": 30,
   "metadata": {
    "ExecuteTime": {
     "end_time": "2020-07-01T10:04:35.249106Z",
     "start_time": "2020-07-01T10:04:35.234093Z"
    }
   },
   "outputs": [
    {
     "data": {
      "text/html": [
       "<div>\n",
       "<style scoped>\n",
       "    .dataframe tbody tr th:only-of-type {\n",
       "        vertical-align: middle;\n",
       "    }\n",
       "\n",
       "    .dataframe tbody tr th {\n",
       "        vertical-align: top;\n",
       "    }\n",
       "\n",
       "    .dataframe thead th {\n",
       "        text-align: right;\n",
       "    }\n",
       "</style>\n",
       "<table border=\"1\" class=\"dataframe\">\n",
       "  <thead>\n",
       "    <tr style=\"text-align: right;\">\n",
       "      <th></th>\n",
       "      <th>标题</th>\n",
       "      <th>价格</th>\n",
       "      <th>付款人数</th>\n",
       "      <th>店铺</th>\n",
       "      <th>发货地址</th>\n",
       "      <th>类别</th>\n",
       "    </tr>\n",
       "  </thead>\n",
       "  <tbody>\n",
       "    <tr>\n",
       "      <th>2798</th>\n",
       "      <td>御茶膳房端午节礼品黄酒有机粽子咸鸭蛋手提竹篮礼盒装高端大礼包</td>\n",
       "      <td>1780.0</td>\n",
       "      <td>12人付款</td>\n",
       "      <td>御茶膳房旗舰店</td>\n",
       "      <td>北京</td>\n",
       "      <td>高</td>\n",
       "    </tr>\n",
       "    <tr>\n",
       "      <th>2509</th>\n",
       "      <td>御茶膳房端午节礼品有机粽子咸鸭蛋手提竹篮礼盒装高端大礼包</td>\n",
       "      <td>1088.0</td>\n",
       "      <td>9人付款</td>\n",
       "      <td>御茶膳房旗舰店</td>\n",
       "      <td>北京</td>\n",
       "      <td>高</td>\n",
       "    </tr>\n",
       "    <tr>\n",
       "      <th>153</th>\n",
       "      <td>端午节礼品礼盒装组合高档有机粽子咸鸭蛋送领导高端送礼大礼包</td>\n",
       "      <td>858.0</td>\n",
       "      <td>45人付款</td>\n",
       "      <td>御茶膳房旗舰店</td>\n",
       "      <td>北京</td>\n",
       "      <td>高</td>\n",
       "    </tr>\n",
       "    <tr>\n",
       "      <th>794</th>\n",
       "      <td>嘉兴粽子新鲜大肉粽蛋黄肉粽甜粽竹篮粽子礼盒装组合端午送礼团购</td>\n",
       "      <td>857.9</td>\n",
       "      <td>2491人付款</td>\n",
       "      <td>千味食代i</td>\n",
       "      <td>浙江 嘉兴</td>\n",
       "      <td>高</td>\n",
       "    </tr>\n",
       "    <tr>\n",
       "      <th>2729</th>\n",
       "      <td>米旗端午节粽子礼盒壹品私房多口味肉粽素棕海鲜粽高档礼盒送礼</td>\n",
       "      <td>678.0</td>\n",
       "      <td>5人付款</td>\n",
       "      <td>壹品优店</td>\n",
       "      <td>北京</td>\n",
       "      <td>高</td>\n",
       "    </tr>\n",
       "    <tr>\n",
       "      <th>...</th>\n",
       "      <td>...</td>\n",
       "      <td>...</td>\n",
       "      <td>...</td>\n",
       "      <td>...</td>\n",
       "      <td>...</td>\n",
       "      <td>...</td>\n",
       "    </tr>\n",
       "    <tr>\n",
       "      <th>1654</th>\n",
       "      <td>三珍斋鲜肉粽100g*2只嘉兴特产粽子速食早餐（新老包装随机发货）</td>\n",
       "      <td>3.2</td>\n",
       "      <td>NaN</td>\n",
       "      <td>天猫会员店</td>\n",
       "      <td>上海</td>\n",
       "      <td>低</td>\n",
       "    </tr>\n",
       "    <tr>\n",
       "      <th>3516</th>\n",
       "      <td>老鼎丰东北哈尔滨特产粽子鲜肉粽甜粽蜜枣端午节手工传统新鲜蛋黄</td>\n",
       "      <td>2.9</td>\n",
       "      <td>913人付款</td>\n",
       "      <td>老鼎丰旗舰店</td>\n",
       "      <td>黑龙江 哈尔滨</td>\n",
       "      <td>低</td>\n",
       "    </tr>\n",
       "    <tr>\n",
       "      <th>1441</th>\n",
       "      <td>久知味蛋黄鲜肉粽135g 真空粽嘉兴特产粽子速食早餐</td>\n",
       "      <td>2.9</td>\n",
       "      <td>NaN</td>\n",
       "      <td>天猫会员店</td>\n",
       "      <td>上海</td>\n",
       "      <td>低</td>\n",
       "    </tr>\n",
       "    <tr>\n",
       "      <th>1760</th>\n",
       "      <td>久知味润香细沙粽135g 真空粽嘉兴特产粽子速食早餐</td>\n",
       "      <td>2.8</td>\n",
       "      <td>NaN</td>\n",
       "      <td>天猫会员店</td>\n",
       "      <td>上海</td>\n",
       "      <td>NaN</td>\n",
       "    </tr>\n",
       "    <tr>\n",
       "      <th>1548</th>\n",
       "      <td>久知味醇香鲜肉粽135g 真空粽嘉兴特产粽子速食早餐</td>\n",
       "      <td>2.8</td>\n",
       "      <td>NaN</td>\n",
       "      <td>天猫会员店</td>\n",
       "      <td>上海</td>\n",
       "      <td>NaN</td>\n",
       "    </tr>\n",
       "  </tbody>\n",
       "</table>\n",
       "<p>4400 rows × 6 columns</p>\n",
       "</div>"
      ],
      "text/plain": [
       "                                     标题      价格     付款人数       店铺     发货地址  \\\n",
       "2798     御茶膳房端午节礼品黄酒有机粽子咸鸭蛋手提竹篮礼盒装高端大礼包  1780.0    12人付款  御茶膳房旗舰店       北京   \n",
       "2509       御茶膳房端午节礼品有机粽子咸鸭蛋手提竹篮礼盒装高端大礼包  1088.0     9人付款  御茶膳房旗舰店       北京   \n",
       "153       端午节礼品礼盒装组合高档有机粽子咸鸭蛋送领导高端送礼大礼包   858.0    45人付款  御茶膳房旗舰店       北京   \n",
       "794      嘉兴粽子新鲜大肉粽蛋黄肉粽甜粽竹篮粽子礼盒装组合端午送礼团购   857.9  2491人付款    千味食代i    浙江 嘉兴   \n",
       "2729      米旗端午节粽子礼盒壹品私房多口味肉粽素棕海鲜粽高档礼盒送礼   678.0     5人付款     壹品优店       北京   \n",
       "...                                 ...     ...      ...      ...      ...   \n",
       "1654  三珍斋鲜肉粽100g*2只嘉兴特产粽子速食早餐（新老包装随机发货）     3.2      NaN    天猫会员店       上海   \n",
       "3516     老鼎丰东北哈尔滨特产粽子鲜肉粽甜粽蜜枣端午节手工传统新鲜蛋黄     2.9   913人付款   老鼎丰旗舰店  黑龙江 哈尔滨   \n",
       "1441         久知味蛋黄鲜肉粽135g 真空粽嘉兴特产粽子速食早餐     2.9      NaN    天猫会员店       上海   \n",
       "1760         久知味润香细沙粽135g 真空粽嘉兴特产粽子速食早餐     2.8      NaN    天猫会员店       上海   \n",
       "1548         久知味醇香鲜肉粽135g 真空粽嘉兴特产粽子速食早餐     2.8      NaN    天猫会员店       上海   \n",
       "\n",
       "       类别  \n",
       "2798    高  \n",
       "2509    高  \n",
       "153     高  \n",
       "794     高  \n",
       "2729    高  \n",
       "...   ...  \n",
       "1654    低  \n",
       "3516    低  \n",
       "1441    低  \n",
       "1760  NaN  \n",
       "1548  NaN  \n",
       "\n",
       "[4400 rows x 6 columns]"
      ]
     },
     "execution_count": 30,
     "metadata": {},
     "output_type": "execute_result"
    }
   ],
   "source": [
    "df"
   ]
  },
  {
   "cell_type": "code",
   "execution_count": 31,
   "metadata": {
    "ExecuteTime": {
     "end_time": "2020-07-01T10:04:35.265120Z",
     "start_time": "2020-07-01T10:04:35.250106Z"
    }
   },
   "outputs": [
    {
     "data": {
      "text/plain": [
       "['标题', '价格', '付款人数', '店铺', '发货地址', '类别']"
      ]
     },
     "execution_count": 31,
     "metadata": {},
     "output_type": "execute_result"
    }
   ],
   "source": [
    "col_name = df.columns.tolist()\n",
    "col_name"
   ]
  },
  {
   "cell_type": "code",
   "execution_count": 32,
   "metadata": {
    "ExecuteTime": {
     "end_time": "2020-07-01T10:04:35.281135Z",
     "start_time": "2020-07-01T10:04:35.266122Z"
    }
   },
   "outputs": [
    {
     "data": {
      "text/html": [
       "<div>\n",
       "<style scoped>\n",
       "    .dataframe tbody tr th:only-of-type {\n",
       "        vertical-align: middle;\n",
       "    }\n",
       "\n",
       "    .dataframe tbody tr th {\n",
       "        vertical-align: top;\n",
       "    }\n",
       "\n",
       "    .dataframe thead th {\n",
       "        text-align: right;\n",
       "    }\n",
       "</style>\n",
       "<table border=\"1\" class=\"dataframe\">\n",
       "  <thead>\n",
       "    <tr style=\"text-align: right;\">\n",
       "      <th></th>\n",
       "      <th>标题</th>\n",
       "      <th>类别</th>\n",
       "      <th>价格</th>\n",
       "      <th>付款人数</th>\n",
       "      <th>店铺</th>\n",
       "      <th>发货地址</th>\n",
       "    </tr>\n",
       "  </thead>\n",
       "  <tbody>\n",
       "    <tr>\n",
       "      <th>2798</th>\n",
       "      <td>御茶膳房端午节礼品黄酒有机粽子咸鸭蛋手提竹篮礼盒装高端大礼包</td>\n",
       "      <td>高</td>\n",
       "      <td>1780.0</td>\n",
       "      <td>12人付款</td>\n",
       "      <td>御茶膳房旗舰店</td>\n",
       "      <td>北京</td>\n",
       "    </tr>\n",
       "    <tr>\n",
       "      <th>2509</th>\n",
       "      <td>御茶膳房端午节礼品有机粽子咸鸭蛋手提竹篮礼盒装高端大礼包</td>\n",
       "      <td>高</td>\n",
       "      <td>1088.0</td>\n",
       "      <td>9人付款</td>\n",
       "      <td>御茶膳房旗舰店</td>\n",
       "      <td>北京</td>\n",
       "    </tr>\n",
       "    <tr>\n",
       "      <th>153</th>\n",
       "      <td>端午节礼品礼盒装组合高档有机粽子咸鸭蛋送领导高端送礼大礼包</td>\n",
       "      <td>高</td>\n",
       "      <td>858.0</td>\n",
       "      <td>45人付款</td>\n",
       "      <td>御茶膳房旗舰店</td>\n",
       "      <td>北京</td>\n",
       "    </tr>\n",
       "    <tr>\n",
       "      <th>794</th>\n",
       "      <td>嘉兴粽子新鲜大肉粽蛋黄肉粽甜粽竹篮粽子礼盒装组合端午送礼团购</td>\n",
       "      <td>高</td>\n",
       "      <td>857.9</td>\n",
       "      <td>2491人付款</td>\n",
       "      <td>千味食代i</td>\n",
       "      <td>浙江 嘉兴</td>\n",
       "    </tr>\n",
       "    <tr>\n",
       "      <th>2729</th>\n",
       "      <td>米旗端午节粽子礼盒壹品私房多口味肉粽素棕海鲜粽高档礼盒送礼</td>\n",
       "      <td>高</td>\n",
       "      <td>678.0</td>\n",
       "      <td>5人付款</td>\n",
       "      <td>壹品优店</td>\n",
       "      <td>北京</td>\n",
       "    </tr>\n",
       "    <tr>\n",
       "      <th>...</th>\n",
       "      <td>...</td>\n",
       "      <td>...</td>\n",
       "      <td>...</td>\n",
       "      <td>...</td>\n",
       "      <td>...</td>\n",
       "      <td>...</td>\n",
       "    </tr>\n",
       "    <tr>\n",
       "      <th>1654</th>\n",
       "      <td>三珍斋鲜肉粽100g*2只嘉兴特产粽子速食早餐（新老包装随机发货）</td>\n",
       "      <td>低</td>\n",
       "      <td>3.2</td>\n",
       "      <td>NaN</td>\n",
       "      <td>天猫会员店</td>\n",
       "      <td>上海</td>\n",
       "    </tr>\n",
       "    <tr>\n",
       "      <th>3516</th>\n",
       "      <td>老鼎丰东北哈尔滨特产粽子鲜肉粽甜粽蜜枣端午节手工传统新鲜蛋黄</td>\n",
       "      <td>低</td>\n",
       "      <td>2.9</td>\n",
       "      <td>913人付款</td>\n",
       "      <td>老鼎丰旗舰店</td>\n",
       "      <td>黑龙江 哈尔滨</td>\n",
       "    </tr>\n",
       "    <tr>\n",
       "      <th>1441</th>\n",
       "      <td>久知味蛋黄鲜肉粽135g 真空粽嘉兴特产粽子速食早餐</td>\n",
       "      <td>低</td>\n",
       "      <td>2.9</td>\n",
       "      <td>NaN</td>\n",
       "      <td>天猫会员店</td>\n",
       "      <td>上海</td>\n",
       "    </tr>\n",
       "    <tr>\n",
       "      <th>1760</th>\n",
       "      <td>久知味润香细沙粽135g 真空粽嘉兴特产粽子速食早餐</td>\n",
       "      <td>NaN</td>\n",
       "      <td>2.8</td>\n",
       "      <td>NaN</td>\n",
       "      <td>天猫会员店</td>\n",
       "      <td>上海</td>\n",
       "    </tr>\n",
       "    <tr>\n",
       "      <th>1548</th>\n",
       "      <td>久知味醇香鲜肉粽135g 真空粽嘉兴特产粽子速食早餐</td>\n",
       "      <td>NaN</td>\n",
       "      <td>2.8</td>\n",
       "      <td>NaN</td>\n",
       "      <td>天猫会员店</td>\n",
       "      <td>上海</td>\n",
       "    </tr>\n",
       "  </tbody>\n",
       "</table>\n",
       "<p>4400 rows × 6 columns</p>\n",
       "</div>"
      ],
      "text/plain": [
       "                                     标题   类别      价格     付款人数       店铺  \\\n",
       "2798     御茶膳房端午节礼品黄酒有机粽子咸鸭蛋手提竹篮礼盒装高端大礼包    高  1780.0    12人付款  御茶膳房旗舰店   \n",
       "2509       御茶膳房端午节礼品有机粽子咸鸭蛋手提竹篮礼盒装高端大礼包    高  1088.0     9人付款  御茶膳房旗舰店   \n",
       "153       端午节礼品礼盒装组合高档有机粽子咸鸭蛋送领导高端送礼大礼包    高   858.0    45人付款  御茶膳房旗舰店   \n",
       "794      嘉兴粽子新鲜大肉粽蛋黄肉粽甜粽竹篮粽子礼盒装组合端午送礼团购    高   857.9  2491人付款    千味食代i   \n",
       "2729      米旗端午节粽子礼盒壹品私房多口味肉粽素棕海鲜粽高档礼盒送礼    高   678.0     5人付款     壹品优店   \n",
       "...                                 ...  ...     ...      ...      ...   \n",
       "1654  三珍斋鲜肉粽100g*2只嘉兴特产粽子速食早餐（新老包装随机发货）    低     3.2      NaN    天猫会员店   \n",
       "3516     老鼎丰东北哈尔滨特产粽子鲜肉粽甜粽蜜枣端午节手工传统新鲜蛋黄    低     2.9   913人付款   老鼎丰旗舰店   \n",
       "1441         久知味蛋黄鲜肉粽135g 真空粽嘉兴特产粽子速食早餐    低     2.9      NaN    天猫会员店   \n",
       "1760         久知味润香细沙粽135g 真空粽嘉兴特产粽子速食早餐  NaN     2.8      NaN    天猫会员店   \n",
       "1548         久知味醇香鲜肉粽135g 真空粽嘉兴特产粽子速食早餐  NaN     2.8      NaN    天猫会员店   \n",
       "\n",
       "         发货地址  \n",
       "2798       北京  \n",
       "2509       北京  \n",
       "153        北京  \n",
       "794     浙江 嘉兴  \n",
       "2729       北京  \n",
       "...       ...  \n",
       "1654       上海  \n",
       "3516  黑龙江 哈尔滨  \n",
       "1441       上海  \n",
       "1760       上海  \n",
       "1548       上海  \n",
       "\n",
       "[4400 rows x 6 columns]"
      ]
     },
     "execution_count": 32,
     "metadata": {},
     "output_type": "execute_result"
    }
   ],
   "source": [
    "df = df.reindex(columns=['标题','类别', '价格', '付款人数', '店铺', '发货地址'])\n",
    "df"
   ]
  },
  {
   "cell_type": "markdown",
   "metadata": {},
   "source": [
    "或者用df.insert() "
   ]
  },
  {
   "cell_type": "markdown",
   "metadata": {},
   "source": [
    "#### 付款人数一栏有缺失值吗？若有则请利用上一问的分类结果对这些缺失值进行合理估计并填充。"
   ]
  },
  {
   "cell_type": "code",
   "execution_count": 33,
   "metadata": {
    "ExecuteTime": {
     "end_time": "2020-07-01T10:04:35.297149Z",
     "start_time": "2020-07-01T10:04:35.282136Z"
    }
   },
   "outputs": [],
   "source": [
    "#df['付款人数'] = df['付款人数'].astype('str')\n",
    "#.astype('string')\n",
    "#df.info() #空值被转成了字符串<NA>"
   ]
  },
  {
   "cell_type": "code",
   "execution_count": 34,
   "metadata": {
    "ExecuteTime": {
     "end_time": "2020-07-01T10:04:35.313163Z",
     "start_time": "2020-07-01T10:04:35.298150Z"
    }
   },
   "outputs": [],
   "source": [
    "#df['pay'] = df['付款人数'].apply(lambda x: x[:-3])"
   ]
  },
  {
   "cell_type": "code",
   "execution_count": 35,
   "metadata": {
    "ExecuteTime": {
     "end_time": "2020-07-01T10:04:35.329177Z",
     "start_time": "2020-07-01T10:04:35.314164Z"
    }
   },
   "outputs": [],
   "source": [
    "#df['pay']= df['pay'].astype('int32') 报错"
   ]
  },
  {
   "cell_type": "code",
   "execution_count": 36,
   "metadata": {
    "ExecuteTime": {
     "end_time": "2020-07-01T10:04:35.345192Z",
     "start_time": "2020-07-01T10:04:35.330178Z"
    },
    "scrolled": false
   },
   "outputs": [],
   "source": [
    "#pd.set_option('display.max_rows', None)\n",
    "#df[~df['pay'].map(is_number)]"
   ]
  },
  {
   "cell_type": "code",
   "execution_count": 37,
   "metadata": {
    "ExecuteTime": {
     "end_time": "2020-07-01T10:04:35.393235Z",
     "start_time": "2020-07-01T10:04:35.345192Z"
    }
   },
   "outputs": [
    {
     "data": {
      "text/html": [
       "<div>\n",
       "<style scoped>\n",
       "    .dataframe tbody tr th:only-of-type {\n",
       "        vertical-align: middle;\n",
       "    }\n",
       "\n",
       "    .dataframe tbody tr th {\n",
       "        vertical-align: top;\n",
       "    }\n",
       "\n",
       "    .dataframe thead th {\n",
       "        text-align: right;\n",
       "    }\n",
       "</style>\n",
       "<table border=\"1\" class=\"dataframe\">\n",
       "  <thead>\n",
       "    <tr style=\"text-align: right;\">\n",
       "      <th></th>\n",
       "      <th>标题</th>\n",
       "      <th>类别</th>\n",
       "      <th>价格</th>\n",
       "      <th>付款人数</th>\n",
       "      <th>店铺</th>\n",
       "      <th>发货地址</th>\n",
       "      <th>人数</th>\n",
       "    </tr>\n",
       "  </thead>\n",
       "  <tbody>\n",
       "    <tr>\n",
       "      <th>595</th>\n",
       "      <td>稻香村粽子礼盒京彩缤纷1670g粽子松仁肉肚鸭蛋 甜粽肉粽多口味</td>\n",
       "      <td>高</td>\n",
       "      <td>189.0</td>\n",
       "      <td>&lt;NA&gt;</td>\n",
       "      <td>天猫会员店</td>\n",
       "      <td>上海</td>\n",
       "      <td>&lt;NA&gt;</td>\n",
       "    </tr>\n",
       "    <tr>\n",
       "      <th>1074</th>\n",
       "      <td>三全龙舟粽礼盒五月尚品礼盒1800g北方端午粽子礼盒</td>\n",
       "      <td>高</td>\n",
       "      <td>129.0</td>\n",
       "      <td>&lt;NA&gt;</td>\n",
       "      <td>天猫会员店</td>\n",
       "      <td>上海</td>\n",
       "      <td>&lt;NA&gt;</td>\n",
       "    </tr>\n",
       "    <tr>\n",
       "      <th>386</th>\n",
       "      <td>五芳斋华礼竹篮礼盒1360g蛋粽组合端午礼品嘉兴粽子礼盒</td>\n",
       "      <td>高</td>\n",
       "      <td>129.0</td>\n",
       "      <td>&lt;NA&gt;</td>\n",
       "      <td>天猫会员店</td>\n",
       "      <td>上海</td>\n",
       "      <td>&lt;NA&gt;</td>\n",
       "    </tr>\n",
       "    <tr>\n",
       "      <th>491</th>\n",
       "      <td>久知味双层竹篮粽子酱鸭礼盒1560克 蛋黄粽粽子礼盒装 端午节送礼</td>\n",
       "      <td>较高</td>\n",
       "      <td>89.0</td>\n",
       "      <td>&lt;NA&gt;</td>\n",
       "      <td>天猫会员店</td>\n",
       "      <td>上海</td>\n",
       "      <td>&lt;NA&gt;</td>\n",
       "    </tr>\n",
       "    <tr>\n",
       "      <th>757</th>\n",
       "      <td>稻香村粽子礼盒稻香粽意1320g端午粽子肉粽甜粽送礼中华老字号</td>\n",
       "      <td>较高</td>\n",
       "      <td>83.2</td>\n",
       "      <td>&lt;NA&gt;</td>\n",
       "      <td>天猫会员店</td>\n",
       "      <td>上海</td>\n",
       "      <td>&lt;NA&gt;</td>\n",
       "    </tr>\n",
       "    <tr>\n",
       "      <th>...</th>\n",
       "      <td>...</td>\n",
       "      <td>...</td>\n",
       "      <td>...</td>\n",
       "      <td>...</td>\n",
       "      <td>...</td>\n",
       "      <td>...</td>\n",
       "      <td>...</td>\n",
       "    </tr>\n",
       "    <tr>\n",
       "      <th>1919</th>\n",
       "      <td>久知味金丝蜜枣粽135g 真空粽嘉兴特产粽子速食早餐</td>\n",
       "      <td>低</td>\n",
       "      <td>3.2</td>\n",
       "      <td>&lt;NA&gt;</td>\n",
       "      <td>天猫会员店</td>\n",
       "      <td>上海</td>\n",
       "      <td>&lt;NA&gt;</td>\n",
       "    </tr>\n",
       "    <tr>\n",
       "      <th>1654</th>\n",
       "      <td>三珍斋鲜肉粽100g*2只嘉兴特产粽子速食早餐（新老包装随机发货）</td>\n",
       "      <td>低</td>\n",
       "      <td>3.2</td>\n",
       "      <td>&lt;NA&gt;</td>\n",
       "      <td>天猫会员店</td>\n",
       "      <td>上海</td>\n",
       "      <td>&lt;NA&gt;</td>\n",
       "    </tr>\n",
       "    <tr>\n",
       "      <th>1441</th>\n",
       "      <td>久知味蛋黄鲜肉粽135g 真空粽嘉兴特产粽子速食早餐</td>\n",
       "      <td>低</td>\n",
       "      <td>2.9</td>\n",
       "      <td>&lt;NA&gt;</td>\n",
       "      <td>天猫会员店</td>\n",
       "      <td>上海</td>\n",
       "      <td>&lt;NA&gt;</td>\n",
       "    </tr>\n",
       "    <tr>\n",
       "      <th>1760</th>\n",
       "      <td>久知味润香细沙粽135g 真空粽嘉兴特产粽子速食早餐</td>\n",
       "      <td>NaN</td>\n",
       "      <td>2.8</td>\n",
       "      <td>&lt;NA&gt;</td>\n",
       "      <td>天猫会员店</td>\n",
       "      <td>上海</td>\n",
       "      <td>&lt;NA&gt;</td>\n",
       "    </tr>\n",
       "    <tr>\n",
       "      <th>1548</th>\n",
       "      <td>久知味醇香鲜肉粽135g 真空粽嘉兴特产粽子速食早餐</td>\n",
       "      <td>NaN</td>\n",
       "      <td>2.8</td>\n",
       "      <td>&lt;NA&gt;</td>\n",
       "      <td>天猫会员店</td>\n",
       "      <td>上海</td>\n",
       "      <td>&lt;NA&gt;</td>\n",
       "    </tr>\n",
       "  </tbody>\n",
       "</table>\n",
       "<p>71 rows × 7 columns</p>\n",
       "</div>"
      ],
      "text/plain": [
       "                                     标题   类别     价格  付款人数     店铺 发货地址    人数\n",
       "595    稻香村粽子礼盒京彩缤纷1670g粽子松仁肉肚鸭蛋 甜粽肉粽多口味    高  189.0  <NA>  天猫会员店   上海  <NA>\n",
       "1074         三全龙舟粽礼盒五月尚品礼盒1800g北方端午粽子礼盒    高  129.0  <NA>  天猫会员店   上海  <NA>\n",
       "386        五芳斋华礼竹篮礼盒1360g蛋粽组合端午礼品嘉兴粽子礼盒    高  129.0  <NA>  天猫会员店   上海  <NA>\n",
       "491   久知味双层竹篮粽子酱鸭礼盒1560克 蛋黄粽粽子礼盒装 端午节送礼   较高   89.0  <NA>  天猫会员店   上海  <NA>\n",
       "757     稻香村粽子礼盒稻香粽意1320g端午粽子肉粽甜粽送礼中华老字号   较高   83.2  <NA>  天猫会员店   上海  <NA>\n",
       "...                                 ...  ...    ...   ...    ...  ...   ...\n",
       "1919         久知味金丝蜜枣粽135g 真空粽嘉兴特产粽子速食早餐    低    3.2  <NA>  天猫会员店   上海  <NA>\n",
       "1654  三珍斋鲜肉粽100g*2只嘉兴特产粽子速食早餐（新老包装随机发货）    低    3.2  <NA>  天猫会员店   上海  <NA>\n",
       "1441         久知味蛋黄鲜肉粽135g 真空粽嘉兴特产粽子速食早餐    低    2.9  <NA>  天猫会员店   上海  <NA>\n",
       "1760         久知味润香细沙粽135g 真空粽嘉兴特产粽子速食早餐  NaN    2.8  <NA>  天猫会员店   上海  <NA>\n",
       "1548         久知味醇香鲜肉粽135g 真空粽嘉兴特产粽子速食早餐  NaN    2.8  <NA>  天猫会员店   上海  <NA>\n",
       "\n",
       "[71 rows x 7 columns]"
      ]
     },
     "execution_count": 37,
     "metadata": {},
     "output_type": "execute_result"
    }
   ],
   "source": [
    "df = df.convert_dtypes()\n",
    "df['人数'] = df['付款人数'].str.replace(r'人付款', '')\n",
    "df['人数'] = df['人数'].str.replace(r'\\+', '')\n",
    "df_dot = df.loc[df['人数'].str.contains(r'\\.'), '人数'].str.replace('.', '')\n",
    "df_dot = df_dot.str.replace('万', '000')\n",
    "df.loc[list(df_dot.index), '人数'] = list(df_dot.values)\n",
    "df_wan = df.loc[df['人数'].str.contains('万'), '人数'].str.replace('万', '0000')\n",
    "df.loc[list(df_wan.index), '人数'] = list(df_wan.values)\n",
    "df.loc[df['人数'].isna()]"
   ]
  },
  {
   "cell_type": "code",
   "execution_count": 38,
   "metadata": {
    "ExecuteTime": {
     "end_time": "2020-07-01T10:04:35.425263Z",
     "start_time": "2020-07-01T10:04:35.394236Z"
    }
   },
   "outputs": [
    {
     "data": {
      "text/html": [
       "<div>\n",
       "<style scoped>\n",
       "    .dataframe tbody tr th:only-of-type {\n",
       "        vertical-align: middle;\n",
       "    }\n",
       "\n",
       "    .dataframe tbody tr th {\n",
       "        vertical-align: top;\n",
       "    }\n",
       "\n",
       "    .dataframe thead th {\n",
       "        text-align: right;\n",
       "    }\n",
       "</style>\n",
       "<table border=\"1\" class=\"dataframe\">\n",
       "  <thead>\n",
       "    <tr style=\"text-align: right;\">\n",
       "      <th></th>\n",
       "      <th>标题</th>\n",
       "      <th>类别</th>\n",
       "      <th>价格</th>\n",
       "      <th>付款人数</th>\n",
       "      <th>店铺</th>\n",
       "      <th>发货地址</th>\n",
       "      <th>人数</th>\n",
       "    </tr>\n",
       "  </thead>\n",
       "  <tbody>\n",
       "    <tr>\n",
       "      <th>1441</th>\n",
       "      <td>久知味蛋黄鲜肉粽135g 真空粽嘉兴特产粽子速食早餐</td>\n",
       "      <td>低</td>\n",
       "      <td>2.9</td>\n",
       "      <td>&lt;NA&gt;</td>\n",
       "      <td>天猫会员店</td>\n",
       "      <td>上海</td>\n",
       "      <td>NaN</td>\n",
       "    </tr>\n",
       "    <tr>\n",
       "      <th>1760</th>\n",
       "      <td>久知味润香细沙粽135g 真空粽嘉兴特产粽子速食早餐</td>\n",
       "      <td>NaN</td>\n",
       "      <td>2.8</td>\n",
       "      <td>&lt;NA&gt;</td>\n",
       "      <td>天猫会员店</td>\n",
       "      <td>上海</td>\n",
       "      <td>NaN</td>\n",
       "    </tr>\n",
       "    <tr>\n",
       "      <th>1548</th>\n",
       "      <td>久知味醇香鲜肉粽135g 真空粽嘉兴特产粽子速食早餐</td>\n",
       "      <td>NaN</td>\n",
       "      <td>2.8</td>\n",
       "      <td>&lt;NA&gt;</td>\n",
       "      <td>天猫会员店</td>\n",
       "      <td>上海</td>\n",
       "      <td>NaN</td>\n",
       "    </tr>\n",
       "  </tbody>\n",
       "</table>\n",
       "</div>"
      ],
      "text/plain": [
       "                              标题   类别   价格  付款人数     店铺 发货地址  人数\n",
       "1441  久知味蛋黄鲜肉粽135g 真空粽嘉兴特产粽子速食早餐    低  2.9  <NA>  天猫会员店   上海 NaN\n",
       "1760  久知味润香细沙粽135g 真空粽嘉兴特产粽子速食早餐  NaN  2.8  <NA>  天猫会员店   上海 NaN\n",
       "1548  久知味醇香鲜肉粽135g 真空粽嘉兴特产粽子速食早餐  NaN  2.8  <NA>  天猫会员店   上海 NaN"
      ]
     },
     "execution_count": 38,
     "metadata": {},
     "output_type": "execute_result"
    }
   ],
   "source": [
    "# 转回float类型\n",
    "df['人数'] = pd.to_numeric(df['人数'], errors='coerce')\n",
    "# 进行线性插值\n",
    "for _, group in df.groupby('类别'):\n",
    "    df.loc[group.index, '人数'] = group[['价格', '人数']].sort_values(by='价格')['人数'].interpolate()\n",
    "\n",
    "df.loc[df['人数'].isna()]"
   ]
  },
  {
   "cell_type": "code",
   "execution_count": 39,
   "metadata": {
    "ExecuteTime": {
     "end_time": "2020-07-01T10:04:35.441277Z",
     "start_time": "2020-07-01T10:04:35.425263Z"
    }
   },
   "outputs": [],
   "source": [
    "from math import ceil"
   ]
  },
  {
   "cell_type": "code",
   "execution_count": 40,
   "metadata": {
    "ExecuteTime": {
     "end_time": "2020-07-01T10:04:35.489320Z",
     "start_time": "2020-07-01T10:04:35.442279Z"
    }
   },
   "outputs": [
    {
     "data": {
      "text/html": [
       "<div>\n",
       "<style scoped>\n",
       "    .dataframe tbody tr th:only-of-type {\n",
       "        vertical-align: middle;\n",
       "    }\n",
       "\n",
       "    .dataframe tbody tr th {\n",
       "        vertical-align: top;\n",
       "    }\n",
       "\n",
       "    .dataframe thead th {\n",
       "        text-align: right;\n",
       "    }\n",
       "</style>\n",
       "<table border=\"1\" class=\"dataframe\">\n",
       "  <thead>\n",
       "    <tr style=\"text-align: right;\">\n",
       "      <th></th>\n",
       "      <th>标题</th>\n",
       "      <th>类别</th>\n",
       "      <th>价格</th>\n",
       "      <th>付款人数</th>\n",
       "      <th>店铺</th>\n",
       "      <th>发货地址</th>\n",
       "      <th>人数</th>\n",
       "    </tr>\n",
       "  </thead>\n",
       "  <tbody>\n",
       "    <tr>\n",
       "      <th>183</th>\n",
       "      <td>五芳斋 140g*8只大粽子 福韵端午豆沙蜜枣蛋黄粽新包装送礼礼盒</td>\n",
       "      <td>中</td>\n",
       "      <td>50.9</td>\n",
       "      <td>16人付款</td>\n",
       "      <td>天猫会员店</td>\n",
       "      <td>上海</td>\n",
       "      <td>16.0</td>\n",
       "    </tr>\n",
       "    <tr>\n",
       "      <th>2131</th>\n",
       "      <td>俏香阁经典鲜肉粽子120g*2只端午节嘉兴特产速食早餐点心</td>\n",
       "      <td>低</td>\n",
       "      <td>5.9</td>\n",
       "      <td>2566人付款</td>\n",
       "      <td>天猫会员店</td>\n",
       "      <td>上海</td>\n",
       "      <td>2565.5</td>\n",
       "    </tr>\n",
       "  </tbody>\n",
       "</table>\n",
       "</div>"
      ],
      "text/plain": [
       "                                     标题 类别    价格     付款人数     店铺 发货地址      人数\n",
       "183   五芳斋 140g*8只大粽子 福韵端午豆沙蜜枣蛋黄粽新包装送礼礼盒  中  50.9    16人付款  天猫会员店   上海    16.0\n",
       "2131      俏香阁经典鲜肉粽子120g*2只端午节嘉兴特产速食早餐点心  低   5.9  2566人付款  天猫会员店   上海  2565.5"
      ]
     },
     "execution_count": 40,
     "metadata": {},
     "output_type": "execute_result"
    }
   ],
   "source": [
    "df.loc[df['人数'].isna(), '人数'] = [900, 900, 900]\n",
    "amount = list(df.loc[df['付款人数'].isna(), '人数'])\n",
    "for i in range(len(amount)):\n",
    "    amount[i] = str(ceil(amount[i]))\n",
    "person = '人付款'\n",
    "for i in range(len(amount)):\n",
    "    amount[i] = amount[i] + person\n",
    "\n",
    "df.loc[df['付款人数'].isna(), '付款人数'] = amount\n",
    "df.loc[[183, 2131]]"
   ]
  },
  {
   "cell_type": "markdown",
   "metadata": {},
   "source": [
    "#### (5) 请将数据后四列合并为如下格式的Series：商品发货地为××，店铺为××，共计×× 人付款，单价为××。"
   ]
  },
  {
   "cell_type": "code",
   "execution_count": 41,
   "metadata": {
    "ExecuteTime": {
     "end_time": "2020-07-01T10:08:42.063412Z",
     "start_time": "2020-07-01T10:08:42.041897Z"
    }
   },
   "outputs": [
    {
     "data": {
      "text/plain": [
       "2798      商品发货地为北京,店铺为御茶膳房旗舰店,共计12人付款,单价为1780.0\n",
       "2509       商品发货地为北京,店铺为御茶膳房旗舰店,共计9人付款,单价为1088.0\n",
       "153        商品发货地为北京,店铺为御茶膳房旗舰店,共计45人付款,单价为858.0\n",
       "794     商品发货地为浙江 嘉兴,店铺为千味食代i,共计2491人付款,单价为857.9\n",
       "2729           商品发货地为北京,店铺为壹品优店,共计5人付款,单价为678.0\n",
       "                         ...                   \n",
       "1654          商品发货地为上海,店铺为天猫会员店,共计956人付款,单价为3.2\n",
       "3516    商品发货地为黑龙江 哈尔滨,店铺为老鼎丰旗舰店,共计913人付款,单价为2.9\n",
       "1441          商品发货地为上海,店铺为天猫会员店,共计900人付款,单价为2.9\n",
       "1760          商品发货地为上海,店铺为天猫会员店,共计900人付款,单价为2.8\n",
       "1548          商品发货地为上海,店铺为天猫会员店,共计900人付款,单价为2.8\n",
       "Length: 4400, dtype: string"
      ]
     },
     "execution_count": 41,
     "metadata": {},
     "output_type": "execute_result"
    }
   ],
   "source": [
    "df['价格'] = df['价格'].astype('str')\n",
    "df_a = ('商品发货地为' + df['发货地址'] + ',店铺为' + df['店铺'] + ',共计'+ df['付款人数'] + ',单价为' + df['价格'])\n",
    "df_a"
   ]
  },
  {
   "cell_type": "code",
   "execution_count": 42,
   "metadata": {
    "ExecuteTime": {
     "end_time": "2020-07-01T10:09:06.497246Z",
     "start_time": "2020-07-01T10:09:06.464695Z"
    }
   },
   "outputs": [
    {
     "data": {
      "text/html": [
       "<div>\n",
       "<style scoped>\n",
       "    .dataframe tbody tr th:only-of-type {\n",
       "        vertical-align: middle;\n",
       "    }\n",
       "\n",
       "    .dataframe tbody tr th {\n",
       "        vertical-align: top;\n",
       "    }\n",
       "\n",
       "    .dataframe thead th {\n",
       "        text-align: right;\n",
       "    }\n",
       "</style>\n",
       "<table border=\"1\" class=\"dataframe\">\n",
       "  <thead>\n",
       "    <tr style=\"text-align: right;\">\n",
       "      <th></th>\n",
       "      <th>发货地址</th>\n",
       "      <th>店铺</th>\n",
       "      <th>付款人数</th>\n",
       "      <th>价格</th>\n",
       "    </tr>\n",
       "  </thead>\n",
       "  <tbody>\n",
       "    <tr>\n",
       "      <th>2798</th>\n",
       "      <td>北京</td>\n",
       "      <td>御茶膳房旗舰店</td>\n",
       "      <td>12人付款</td>\n",
       "      <td>1780.0</td>\n",
       "    </tr>\n",
       "    <tr>\n",
       "      <th>2509</th>\n",
       "      <td>北京</td>\n",
       "      <td>御茶膳房旗舰店</td>\n",
       "      <td>9人付款</td>\n",
       "      <td>1088.0</td>\n",
       "    </tr>\n",
       "    <tr>\n",
       "      <th>153</th>\n",
       "      <td>北京</td>\n",
       "      <td>御茶膳房旗舰店</td>\n",
       "      <td>45人付款</td>\n",
       "      <td>858.0</td>\n",
       "    </tr>\n",
       "    <tr>\n",
       "      <th>794</th>\n",
       "      <td>浙江 嘉兴</td>\n",
       "      <td>千味食代i</td>\n",
       "      <td>2491人付款</td>\n",
       "      <td>857.9</td>\n",
       "    </tr>\n",
       "    <tr>\n",
       "      <th>2729</th>\n",
       "      <td>北京</td>\n",
       "      <td>壹品优店</td>\n",
       "      <td>5人付款</td>\n",
       "      <td>678.0</td>\n",
       "    </tr>\n",
       "    <tr>\n",
       "      <th>...</th>\n",
       "      <td>...</td>\n",
       "      <td>...</td>\n",
       "      <td>...</td>\n",
       "      <td>...</td>\n",
       "    </tr>\n",
       "    <tr>\n",
       "      <th>1654</th>\n",
       "      <td>上海</td>\n",
       "      <td>天猫会员店</td>\n",
       "      <td>956人付款</td>\n",
       "      <td>3.2</td>\n",
       "    </tr>\n",
       "    <tr>\n",
       "      <th>3516</th>\n",
       "      <td>黑龙江 哈尔滨</td>\n",
       "      <td>老鼎丰旗舰店</td>\n",
       "      <td>913人付款</td>\n",
       "      <td>2.9</td>\n",
       "    </tr>\n",
       "    <tr>\n",
       "      <th>1441</th>\n",
       "      <td>上海</td>\n",
       "      <td>天猫会员店</td>\n",
       "      <td>900人付款</td>\n",
       "      <td>2.9</td>\n",
       "    </tr>\n",
       "    <tr>\n",
       "      <th>1760</th>\n",
       "      <td>上海</td>\n",
       "      <td>天猫会员店</td>\n",
       "      <td>900人付款</td>\n",
       "      <td>2.8</td>\n",
       "    </tr>\n",
       "    <tr>\n",
       "      <th>1548</th>\n",
       "      <td>上海</td>\n",
       "      <td>天猫会员店</td>\n",
       "      <td>900人付款</td>\n",
       "      <td>2.8</td>\n",
       "    </tr>\n",
       "  </tbody>\n",
       "</table>\n",
       "<p>4400 rows × 4 columns</p>\n",
       "</div>"
      ],
      "text/plain": [
       "         发货地址       店铺     付款人数      价格\n",
       "2798       北京  御茶膳房旗舰店    12人付款  1780.0\n",
       "2509       北京  御茶膳房旗舰店     9人付款  1088.0\n",
       "153        北京  御茶膳房旗舰店    45人付款   858.0\n",
       "794     浙江 嘉兴    千味食代i  2491人付款   857.9\n",
       "2729       北京     壹品优店     5人付款   678.0\n",
       "...       ...      ...      ...     ...\n",
       "1654       上海    天猫会员店   956人付款     3.2\n",
       "3516  黑龙江 哈尔滨   老鼎丰旗舰店   913人付款     2.9\n",
       "1441       上海    天猫会员店   900人付款     2.9\n",
       "1760       上海    天猫会员店   900人付款     2.8\n",
       "1548       上海    天猫会员店   900人付款     2.8\n",
       "\n",
       "[4400 rows x 4 columns]"
      ]
     },
     "execution_count": 42,
     "metadata": {},
     "output_type": "execute_result"
    }
   ],
   "source": [
    "df_a.str.extract(r'商品发货地为(?P<发货地址>\\w+\\s?\\w+?),店铺为(?P<店铺>[\\w]+),共计(?P<付款人数>\\d+[万\\+]*?人付款),单价为(?P<价格>\\d+\\.?\\d+)')"
   ]
  }
 ],
 "metadata": {
  "kernelspec": {
   "display_name": "joyfulpd",
   "language": "python",
   "name": "joyfulpd"
  },
  "language_info": {
   "codemirror_mode": {
    "name": "ipython",
    "version": 3
   },
   "file_extension": ".py",
   "mimetype": "text/x-python",
   "name": "python",
   "nbconvert_exporter": "python",
   "pygments_lexer": "ipython3",
   "version": "3.8.3"
  },
  "toc": {
   "base_numbering": 1,
   "nav_menu": {},
   "number_sections": true,
   "sideBar": true,
   "skip_h1_title": false,
   "title_cell": "Table of Contents",
   "title_sidebar": "Contents",
   "toc_cell": false,
   "toc_position": {},
   "toc_section_display": true,
   "toc_window_display": false
  },
  "varInspector": {
   "cols": {
    "lenName": 16,
    "lenType": 16,
    "lenVar": 40
   },
   "kernels_config": {
    "python": {
     "delete_cmd_postfix": "",
     "delete_cmd_prefix": "del ",
     "library": "var_list.py",
     "varRefreshCmd": "print(var_dic_list())"
    },
    "r": {
     "delete_cmd_postfix": ") ",
     "delete_cmd_prefix": "rm(",
     "library": "var_list.r",
     "varRefreshCmd": "cat(var_dic_list()) "
    }
   },
   "types_to_exclude": [
    "module",
    "function",
    "builtin_function_or_method",
    "instance",
    "_Feature"
   ],
   "window_display": false
  }
 },
 "nbformat": 4,
 "nbformat_minor": 4
}
